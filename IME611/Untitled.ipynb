{
 "cells": [
  {
   "cell_type": "code",
   "execution_count": 7,
   "metadata": {},
   "outputs": [
    {
     "data": {
      "text/plain": [
       "115.30335550353756"
      ]
     },
     "execution_count": 7,
     "metadata": {},
     "output_type": "execute_result"
    }
   ],
   "source": [
    "c = 6 # coupon\n",
    "n = 4 # number of years, could be in decimal also\n",
    "y = 0.02 # yeild, in decimal\n",
    "fv = 100 # face value of the bond\n",
    "k = 2 # number of coupon payments, for all bonds we take it as 2\n",
    "\n",
    "BP = (c/k)*(1-(1/(1+y/k)**(n*k)))/(y/k) + fv/((1+y/k)**(n*k))\n",
    "BP"
   ]
  },
  {
   "cell_type": "code",
   "execution_count": null,
   "metadata": {},
   "outputs": [],
   "source": []
  }
 ],
 "metadata": {
  "kernelspec": {
   "display_name": "Python 3",
   "language": "python",
   "name": "python3"
  },
  "language_info": {
   "codemirror_mode": {
    "name": "ipython",
    "version": 3
   },
   "file_extension": ".py",
   "mimetype": "text/x-python",
   "name": "python",
   "nbconvert_exporter": "python",
   "pygments_lexer": "ipython3",
   "version": "3.8.3"
  }
 },
 "nbformat": 4,
 "nbformat_minor": 4
}
